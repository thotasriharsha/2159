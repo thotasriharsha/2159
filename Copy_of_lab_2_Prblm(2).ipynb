{
  "nbformat": 4,
  "nbformat_minor": 0,
  "metadata": {
    "colab": {
      "provenance": [],
      "authorship_tag": "ABX9TyNtryK1iKXUHU3afHgyQjfE",
      "include_colab_link": true
    },
    "kernelspec": {
      "name": "python3",
      "display_name": "Python 3"
    },
    "language_info": {
      "name": "python"
    }
  },
  "cells": [
    {
      "cell_type": "markdown",
      "metadata": {
        "id": "view-in-github",
        "colab_type": "text"
      },
      "source": [
        "<a href=\"https://colab.research.google.com/github/thotasriharsha/2159/blob/main/Copy_of_lab_2_Prblm(2).ipynb\" target=\"_parent\"><img src=\"https://colab.research.google.com/assets/colab-badge.svg\" alt=\"Open In Colab\"/></a>"
      ]
    },
    {
      "cell_type": "code",
      "execution_count": null,
      "metadata": {
        "id": "F7GAfTRgXKhn"
      },
      "outputs": [],
      "source": []
    },
    {
      "cell_type": "markdown",
      "source": [
        "![dfs.jpeg](data:image/jpeg;base64,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)"
      ],
      "metadata": {
        "id": "_f_Vv7hJkB-S"
      }
    },
    {
      "cell_type": "code",
      "source": [
        "from queue import Queue\n",
        "\n",
        "graph = {'A':['G','D','B','C'],\n",
        "         'B':['A','C'],\n",
        "         'C':['D','A','B'],\n",
        "         'D':['C','A','G','H','E'],\n",
        "         'E':['F','H','D'],\n",
        "         'F':['E','C'],\n",
        "         'G':['A','D','H'],\n",
        "         'H':['G','E','D']}\n",
        "\n",
        "print(\"The adjanceny list representing the graph is: \")\n",
        "print(graph)\n",
        "def dfs(graph, source):\n",
        "  Q = Queue()\n",
        "  visited_vertices=set()\n",
        "  Q.put(source)\n",
        "  visited_vertices.update((source))\n",
        "  while not Q.empty():\n",
        "    vertex = Q.get()\n",
        "    print(vertex, end=\"-->\")\n",
        "    for u in graph[vertex]:\n",
        "         if u not in visited_vertices:\n",
        "              Q.put(u)\n",
        "              visited_vertices.update({u})\n",
        "print(\"DFS transversal of graph with source 1 is:\")"
      ],
      "metadata": {
        "colab": {
          "base_uri": "https://localhost:8080/"
        },
        "id": "mz9NuB0DZcR4",
        "outputId": "dd0c0727-78a6-4a95-80a0-fca5c4ffc1e2"
      },
      "execution_count": null,
      "outputs": [
        {
          "output_type": "stream",
          "name": "stdout",
          "text": [
            "The adjanceny list representing the graph is: \n",
            "{'A': ['G', 'D', 'B', 'C'], 'B': ['A', 'C'], 'C': ['D', 'A', 'B'], 'D': ['C', 'A', 'G', 'H', 'E'], 'E': ['F', 'H', 'D'], 'F': ['E', 'C'], 'G': ['A', 'D', 'H'], 'H': ['G', 'E', 'D']}\n",
            "DFS transversal of graph with source 1 is:\n"
          ]
        }
      ]
    }
  ]
}